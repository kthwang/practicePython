{
 "cells": [
  {
   "cell_type": "code",
   "execution_count": 4,
   "metadata": {},
   "outputs": [],
   "source": [
    "import urllib\n",
    "from bs4 import BeautifulSoup\n",
    "import requests\n",
    "import base64\n",
    "import chardet\n",
    "from pymongo import MongoClient"
   ]
  },
  {
   "cell_type": "code",
   "execution_count": 5,
   "metadata": {},
   "outputs": [],
   "source": [
    "client = MongoClient('localhost')"
   ]
  },
  {
   "cell_type": "code",
   "execution_count": 6,
   "metadata": {},
   "outputs": [
    {
     "data": {
      "text/plain": [
       "['admin', 'config', 'local', 'newDB', 'sns', 'test']"
      ]
     },
     "execution_count": 6,
     "metadata": {},
     "output_type": "execute_result"
    }
   ],
   "source": [
    "client.list_database_names()"
   ]
  },
  {
   "cell_type": "code",
   "execution_count": 33,
   "metadata": {},
   "outputs": [
    {
     "data": {
      "text/plain": [
       "Collection(Database(MongoClient(host=['localhost:27017'], document_class=dict, tz_aware=False, connect=True), 'createimage'), 'image')"
      ]
     },
     "execution_count": 33,
     "metadata": {},
     "output_type": "execute_result"
    }
   ],
   "source": [
    "client.createimage.get_collection('image')"
   ]
  },
  {
   "cell_type": "code",
   "execution_count": 34,
   "metadata": {},
   "outputs": [],
   "source": [
    "def create_image(url, imageByte):\n",
    "    new_image={\n",
    "        'url': url,\n",
    "        'imageByte':imageByte\n",
    "         }\n",
    "    \n",
    "    return client.createimage.image.insert_one(new_image)"
   ]
  },
  {
   "cell_type": "code",
   "execution_count": 30,
   "metadata": {},
   "outputs": [],
   "source": [
    "url =\"https://www.google.com/search?q=%EA%B3%A0%EC%96%91%EC%9D%B4&source=lnms&tbm=isch&sa=X&ved=0ahUKEwjU37XwlKncAhUDlZQKHSE7CiMQ_AUICigB&biw=1280&bih=643\" \n",
    "select = \"a > img\""
   ]
  },
  {
   "cell_type": "code",
   "execution_count": 35,
   "metadata": {},
   "outputs": [],
   "source": [
    "def getContent(url, select = \"a\", num_retries=2):\n",
    "    html = requests.get(url)\n",
    "    \n",
    "    if 500<=html.status_code<600 and num_retries>0:\n",
    "        print(html.status_code, html.reason)\n",
    "        return getUrl(url, num_retries = num_retries-1)\n",
    "    \n",
    "    dom = BeautifulSoup(html.text, \"lxml\")\n",
    " \n",
    "    imgsrc = dom.select(select)\n",
    "    \n",
    "    \n",
    "    for row in imgsrc:\n",
    "        print(row[\"src\"])\n",
    "        urllib.request.urlretrieve(row[\"src\"], 'img/' + str(imgsrc.index(row))+ \".jpg\")\n",
    "        with open('img/' + str(imgsrc.index(row))+ \".jpg\", \"rb\") as imageFile:\n",
    "            textImage = base64.b64encode(imageFile.read())\n",
    "            create_image(url, textImage)\n",
    "            \n",
    "        \n",
    "\n",
    "    \n"
   ]
  },
  {
   "cell_type": "code",
   "execution_count": 36,
   "metadata": {},
   "outputs": [
    {
     "name": "stdout",
     "output_type": "stream",
     "text": [
      "https://encrypted-tbn0.gstatic.com/images?q=tbn:ANd9GcRUxIYb2BaJKQvgEBqLkv2KdW6rvzyaHF3VFcSc04CMoVVeA6YnHDJOzA\n",
      "https://encrypted-tbn0.gstatic.com/images?q=tbn:ANd9GcRqkqYn8-jFFjJepnm62N6Yv4EuwlKj21vaHs-Mub03sEmnx4vPFYoeHxs\n",
      "https://encrypted-tbn0.gstatic.com/images?q=tbn:ANd9GcQClK6Awp6AThCUg-Uo64AfCh56x7WocJsiaPb7yf5ED79hbG95ICd5YtY\n",
      "https://encrypted-tbn0.gstatic.com/images?q=tbn:ANd9GcTtOEZHIILjU1OE-fmLrbR3Tm2ufzPTiahBw8IIJeII5PAxhj9mXDqqs7HHyQ\n",
      "https://encrypted-tbn0.gstatic.com/images?q=tbn:ANd9GcQgaTuGT8APY8oeDnV7Scax8l3jfjoyMSIrHQ21BBcwb5ktnuILhHTA_3Cb\n",
      "https://encrypted-tbn0.gstatic.com/images?q=tbn:ANd9GcSGFpvZJUo7N4u55__KiFYP1JkFi2AVknbOlcjCezqL971vkLb_zlpuJfXt3w\n",
      "https://encrypted-tbn0.gstatic.com/images?q=tbn:ANd9GcSmUYGeJZgw7CjqfZx0RUGNSHX0fl2NParfqocKmxNLue6kUUG16SMacvA\n",
      "https://encrypted-tbn0.gstatic.com/images?q=tbn:ANd9GcQLbdHYuvYAVlkillsPQuYpP_RRZKtvo5mQho9bAkiZenwER0cqm-XVXk8\n",
      "https://encrypted-tbn0.gstatic.com/images?q=tbn:ANd9GcRJk-hOc2oPpGxj56klvSz28-Z-RiNdYktj3lIQlyY8WTuP8vxMCf3Qcpo\n",
      "https://encrypted-tbn0.gstatic.com/images?q=tbn:ANd9GcTXlbK6q62LohnGJW2oOUnyPotRPfslGLMzROJrbcfrMS2_nyHcTbqo8WmJ\n",
      "https://encrypted-tbn0.gstatic.com/images?q=tbn:ANd9GcTy5OQuNoROfzPdA8tQAGOghKlA56-0KeKmru04cp_WysJALhScA1aWQ15-\n",
      "https://encrypted-tbn0.gstatic.com/images?q=tbn:ANd9GcRdrKhEgr4Lc8x6oNiJ7DwkKJbbLqhmo3jX-vaedjGOPWxzYyYjwdXxay4\n",
      "https://encrypted-tbn0.gstatic.com/images?q=tbn:ANd9GcTI7s_GpEJe3jMo5IKfIllg6lG02SypFh7ht0PBF4EZjemBEoAQA6_qDX9a\n",
      "https://encrypted-tbn0.gstatic.com/images?q=tbn:ANd9GcQdLs8QY86xaTXoPxe1raa7BpHJof7ZB3D1xfHQ1weKxkS7sSPz0DNFYVEC\n",
      "https://encrypted-tbn0.gstatic.com/images?q=tbn:ANd9GcQZKEdYZRULwF7Wc724FFbpQkLKpOiH-fUgHF82dItWrs8hyWP3WLERKdk\n",
      "https://encrypted-tbn0.gstatic.com/images?q=tbn:ANd9GcSyyS1M0JQaK84AKNng8JvF9A9WpVC6TDc11Wwpk0UJIeWFo0c3exaiSHMU\n",
      "https://encrypted-tbn0.gstatic.com/images?q=tbn:ANd9GcS_0UAWoBkCJ-8ZBRv-XrIrWWf6ofXee53mRW5G52-RiNWETxQsU8TIINo\n",
      "https://encrypted-tbn0.gstatic.com/images?q=tbn:ANd9GcQUUPK3KttBjHT_Gy9HrJWv2sWqyVeMblNULn9h9qHRy2ZiG9nn5xg9cg\n",
      "https://encrypted-tbn0.gstatic.com/images?q=tbn:ANd9GcTytlJoR7IifqiRVm-sI0tjkifgfUE42SpZUDvKULRDmUJt0BE4zCIlDIKi\n",
      "https://encrypted-tbn0.gstatic.com/images?q=tbn:ANd9GcThlb9bvDiCVeW0uFKjzRgkdl5Pmje8L2y3b6Wd7hpkVCsyLjw73MbU1Gy4\n"
     ]
    }
   ],
   "source": [
    "getContent(url, select)"
   ]
  },
  {
   "cell_type": "code",
   "execution_count": 70,
   "metadata": {},
   "outputs": [
    {
     "ename": "NameError",
     "evalue": "name 'imgsrc' is not defined",
     "output_type": "error",
     "traceback": [
      "\u001b[1;31m---------------------------------------------------------------------------\u001b[0m",
      "\u001b[1;31mNameError\u001b[0m                                 Traceback (most recent call last)",
      "\u001b[1;32m<ipython-input-70-7fdf7ffa6bef>\u001b[0m in \u001b[0;36m<module>\u001b[1;34m()\u001b[0m\n\u001b[1;32m----> 1\u001b[1;33m \u001b[0mimgsrc\u001b[0m\u001b[1;33m.\u001b[0m\u001b[0mhas_attr\u001b[0m\u001b[1;33m[\u001b[0m\u001b[1;34m'src'\u001b[0m\u001b[1;33m]\u001b[0m\u001b[1;33m\u001b[0m\u001b[0m\n\u001b[0m",
      "\u001b[1;31mNameError\u001b[0m: name 'imgsrc' is not defined"
     ]
    }
   ],
   "source": []
  },
  {
   "cell_type": "code",
   "execution_count": null,
   "metadata": {},
   "outputs": [],
   "source": []
  }
 ],
 "metadata": {
  "kernelspec": {
   "display_name": "Python 3",
   "language": "python",
   "name": "python3"
  },
  "language_info": {
   "codemirror_mode": {
    "name": "ipython",
    "version": 3
   },
   "file_extension": ".py",
   "mimetype": "text/x-python",
   "name": "python",
   "nbconvert_exporter": "python",
   "pygments_lexer": "ipython3",
   "version": "3.6.5"
  }
 },
 "nbformat": 4,
 "nbformat_minor": 2
}
