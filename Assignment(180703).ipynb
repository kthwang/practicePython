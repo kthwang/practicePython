{
 "cells": [
  {
   "cell_type": "markdown",
   "metadata": {},
   "source": [
    "## Reverse Order"
   ]
  },
  {
   "cell_type": "code",
   "execution_count": 31,
   "metadata": {},
   "outputs": [
    {
     "name": "stdout",
     "output_type": "stream",
     "text": [
      "숫자를 입력하세요.1\n",
      "숫자를 입력하세요.2\n",
      "숫자를 입력하세요.3\n",
      "숫자를 입력하세요.4\n",
      "숫자를 입력하세요.5\n",
      "숫자를 입력하세요.0\n",
      "입력값은 ['1', '2', '3', '4', '5']\n",
      "Reverse값은 ['5', '4', '3', '2', '1']\n"
     ]
    }
   ],
   "source": [
    "aList = []\n",
    "bList = []\n",
    "while True: \n",
    "    prompt = input('숫자를 입력하세요.')\n",
    "    aList.append(prompt)\n",
    "    if not prompt.isnumeric():\n",
    "        print('숫자가 아닙니다.')\n",
    "        aList.pop()\n",
    "        \n",
    "    if prompt == str(0):\n",
    "        aList.pop()\n",
    "        break;    \n",
    "for i in range(len(aList)-1,-1,-1):\n",
    "    bList.append(aList[i])\n",
    "print('입력값은', aList)\n",
    "print('Reverse값은', bList)"
   ]
  },
  {
   "cell_type": "markdown",
   "metadata": {},
   "source": [
    "## Avoiding Duplicates"
   ]
  },
  {
   "cell_type": "code",
   "execution_count": 25,
   "metadata": {},
   "outputs": [
    {
     "name": "stdout",
     "output_type": "stream",
     "text": [
      "단어를 입력하세요.a\n",
      "단어를 입력하세요.b\n",
      "단어를 입력하세요.c\n",
      "단어를 입력하세요.d\n",
      "단어를 입력하세요.b\n",
      "단어를 입력하세요.c\n",
      "단어를 입력하세요.d\n",
      "단어를 입력하세요.g\n",
      "단어를 입력하세요.\n",
      "['a', 'b', 'c', 'd', 'g']\n"
     ]
    }
   ],
   "source": [
    "wList = []\n",
    "while True:\n",
    "    a = input('단어를 입력하세요.')\n",
    "    wList.append(a)\n",
    "    if a == '':\n",
    "        wList.pop()\n",
    "        break;\n",
    "newList = []\n",
    "for i in wList:\n",
    "    if i not in newList:\n",
    "        newList.append(i)\n",
    "print(newList)"
   ]
  },
  {
   "cell_type": "markdown",
   "metadata": {},
   "source": [
    "## Negatives, Zeros and Positives"
   ]
  },
  {
   "cell_type": "code",
   "execution_count": 6,
   "metadata": {},
   "outputs": [
    {
     "name": "stdout",
     "output_type": "stream",
     "text": [
      "숫자를 입력하세요.1\n",
      "숫자를 입력하세요.2\n",
      "숫자를 입력하세요.3\n",
      "숫자를 입력하세요.4\n",
      "숫자를 입력하세요.5\n",
      "숫자를 입력하세요.\n",
      "숫자가 아닙니다\n"
     ]
    }
   ],
   "source": [
    "whole =[]\n",
    "neg = []\n",
    "ze = []\n",
    "po = []\n",
    "while True:\n",
    "    a = input('숫자를 입력하세요.')    \n",
    "    whole.append(a)       \n",
    "    if not :\n",
    "        print('숫자가 아닙니다')\n",
    "    if a == '':\n",
    "        break;        "
   ]
  },
  {
   "cell_type": "markdown",
   "metadata": {},
   "source": [
    "## Perfect Numbers"
   ]
  },
  {
   "cell_type": "code",
   "execution_count": 5,
   "metadata": {},
   "outputs": [
    {
     "name": "stdout",
     "output_type": "stream",
     "text": [
      "6\n",
      "28\n",
      "496\n",
      "8128\n"
     ]
    }
   ],
   "source": [
    "def checkPerfect(n):\n",
    "    addValue = 0\n",
    "    for i in range(1, n):\n",
    "        if n % i == 0:\n",
    "            addValue += i\n",
    "            if addValue == n:\n",
    "                if n / i == 2:\n",
    "                    print(addValue)\n",
    "                    return True\n",
    "    else:\n",
    "        return False\n",
    "for j in range(1,10000):\n",
    "    checkPerfect(j)"
   ]
  },
  {
   "cell_type": "markdown",
   "metadata": {},
   "source": [
    "## Formatting a List\n"
   ]
  },
  {
   "cell_type": "code",
   "execution_count": 2,
   "metadata": {},
   "outputs": [
    {
     "data": {
      "text/plain": [
       "False"
      ]
     },
     "execution_count": 2,
     "metadata": {},
     "output_type": "execute_result"
    }
   ],
   "source": []
  },
  {
   "cell_type": "markdown",
   "metadata": {},
   "source": [
    "## Random Lottery Numbers"
   ]
  },
  {
   "cell_type": "code",
   "execution_count": null,
   "metadata": {},
   "outputs": [],
   "source": []
  },
  {
   "cell_type": "markdown",
   "metadata": {},
   "source": [
    "## Unique Characters"
   ]
  },
  {
   "cell_type": "code",
   "execution_count": null,
   "metadata": {},
   "outputs": [],
   "source": []
  },
  {
   "cell_type": "markdown",
   "metadata": {},
   "source": [
    "## Anagrams"
   ]
  },
  {
   "cell_type": "code",
   "execution_count": 6,
   "metadata": {},
   "outputs": [
    {
     "name": "stdout",
     "output_type": "stream",
     "text": [
      "첫번째 단어를 입력하세요hello\n",
      "두번째 단어를 입력하세요world\n",
      "['h', 'e', 'l', 'l', 'o'] ['w', 'o', 'r', 'l', 'd']\n"
     ]
    }
   ],
   "source": [
    "a = input('첫번째 단어를 입력하세요')\n",
    "b = input('두번째 단어를 입력하세요')\n",
    "w1 = list(a)\n",
    "w2 = list(b)\n",
    "\n",
    "print(w1,w2)\n",
    "for i in w1:\n",
    "    for j in w2:\n",
    "        if w2[j] == w1[i]:\n",
    "            "
   ]
  },
  {
   "cell_type": "code",
   "execution_count": null,
   "metadata": {},
   "outputs": [],
   "source": []
  }
 ],
 "metadata": {
  "kernelspec": {
   "display_name": "Python 3",
   "language": "python",
   "name": "python3"
  },
  "language_info": {
   "codemirror_mode": {
    "name": "ipython",
    "version": 3
   },
   "file_extension": ".py",
   "mimetype": "text/x-python",
   "name": "python",
   "nbconvert_exporter": "python",
   "pygments_lexer": "ipython3",
   "version": "3.6.5"
  }
 },
 "nbformat": 4,
 "nbformat_minor": 2
}
