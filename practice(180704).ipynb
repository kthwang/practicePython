{
 "cells": [
  {
   "cell_type": "code",
   "execution_count": 17,
   "metadata": {},
   "outputs": [
    {
     "name": "stdout",
     "output_type": "stream",
     "text": [
      "1\n",
      "2\n",
      "0\n"
     ]
    },
    {
     "data": {
      "text/plain": [
       "1.5"
      ]
     },
     "execution_count": 17,
     "metadata": {},
     "output_type": "execute_result"
    }
   ],
   "source": [
    "#Average\n",
    "\n",
    "num_list = []\n",
    "\n",
    "while True:\n",
    "    num = int(input())\n",
    "    num_list.append(num)\n",
    "\n",
    "    if num_list[0] is 0:\n",
    "        print('Error: 0을 처음에 입력하셨습니다.')\n",
    "        num_list.pop()\n",
    "    if num is 0:\n",
    "        break;\n",
    "a = int(sum(num_list))\n",
    "b = int(len(num_list)-1)\n",
    "c = a / b\n",
    "c\n",
    "\n"
   ]
  },
  {
   "cell_type": "code",
   "execution_count": 36,
   "metadata": {},
   "outputs": [
    {
     "name": "stdout",
     "output_type": "stream",
     "text": [
      "섭씨 화씨 변환 공식\n",
      "섭씨 0 = 화씨 32.0\n",
      "섭씨 1 = 화씨 33.8\n",
      "섭씨 2 = 화씨 35.6\n",
      "섭씨 3 = 화씨 37.4\n",
      "섭씨 4 = 화씨 39.2\n",
      "섭씨 5 = 화씨 41.0\n",
      "섭씨 6 = 화씨 42.8\n",
      "섭씨 7 = 화씨 44.6\n",
      "섭씨 8 = 화씨 46.4\n",
      "섭씨 9 = 화씨 48.2\n",
      "섭씨 10 = 화씨 50.0\n",
      "섭씨 11 = 화씨 51.8\n",
      "섭씨 12 = 화씨 53.6\n",
      "섭씨 13 = 화씨 55.400000000000006\n",
      "섭씨 14 = 화씨 57.2\n",
      "섭씨 15 = 화씨 59.0\n",
      "섭씨 16 = 화씨 60.8\n",
      "섭씨 17 = 화씨 62.6\n",
      "섭씨 18 = 화씨 64.4\n",
      "섭씨 19 = 화씨 66.2\n",
      "섭씨 20 = 화씨 68.0\n",
      "섭씨 21 = 화씨 69.80000000000001\n",
      "섭씨 22 = 화씨 71.6\n",
      "섭씨 23 = 화씨 73.4\n",
      "섭씨 24 = 화씨 75.2\n",
      "섭씨 25 = 화씨 77.0\n",
      "섭씨 26 = 화씨 78.80000000000001\n",
      "섭씨 27 = 화씨 80.6\n",
      "섭씨 28 = 화씨 82.4\n",
      "섭씨 29 = 화씨 84.2\n",
      "섭씨 30 = 화씨 86.0\n",
      "섭씨 31 = 화씨 87.80000000000001\n",
      "섭씨 32 = 화씨 89.6\n",
      "섭씨 33 = 화씨 91.4\n",
      "섭씨 34 = 화씨 93.2\n",
      "섭씨 35 = 화씨 95.0\n",
      "섭씨 36 = 화씨 96.8\n",
      "섭씨 37 = 화씨 98.60000000000001\n",
      "섭씨 38 = 화씨 100.4\n",
      "섭씨 39 = 화씨 102.2\n",
      "섭씨 40 = 화씨 104.0\n",
      "섭씨 41 = 화씨 105.8\n",
      "섭씨 42 = 화씨 107.60000000000001\n",
      "섭씨 43 = 화씨 109.4\n",
      "섭씨 44 = 화씨 111.2\n",
      "섭씨 45 = 화씨 113.0\n",
      "섭씨 46 = 화씨 114.8\n",
      "섭씨 47 = 화씨 116.60000000000001\n",
      "섭씨 48 = 화씨 118.4\n",
      "섭씨 49 = 화씨 120.2\n",
      "섭씨 50 = 화씨 122.0\n",
      "섭씨 51 = 화씨 123.8\n",
      "섭씨 52 = 화씨 125.60000000000001\n",
      "섭씨 53 = 화씨 127.4\n",
      "섭씨 54 = 화씨 129.2\n",
      "섭씨 55 = 화씨 131.0\n",
      "섭씨 56 = 화씨 132.8\n",
      "섭씨 57 = 화씨 134.60000000000002\n",
      "섭씨 58 = 화씨 136.4\n",
      "섭씨 59 = 화씨 138.2\n",
      "섭씨 60 = 화씨 140.0\n",
      "섭씨 61 = 화씨 141.8\n",
      "섭씨 62 = 화씨 143.60000000000002\n",
      "섭씨 63 = 화씨 145.4\n",
      "섭씨 64 = 화씨 147.2\n",
      "섭씨 65 = 화씨 149.0\n",
      "섭씨 66 = 화씨 150.8\n",
      "섭씨 67 = 화씨 152.60000000000002\n",
      "섭씨 68 = 화씨 154.4\n",
      "섭씨 69 = 화씨 156.2\n",
      "섭씨 70 = 화씨 158.0\n",
      "섭씨 71 = 화씨 159.8\n",
      "섭씨 72 = 화씨 161.6\n",
      "섭씨 73 = 화씨 163.4\n",
      "섭씨 74 = 화씨 165.20000000000002\n",
      "섭씨 75 = 화씨 167.0\n",
      "섭씨 76 = 화씨 168.8\n",
      "섭씨 77 = 화씨 170.6\n",
      "섭씨 78 = 화씨 172.4\n",
      "섭씨 79 = 화씨 174.20000000000002\n",
      "섭씨 80 = 화씨 176.0\n",
      "섭씨 81 = 화씨 177.8\n",
      "섭씨 82 = 화씨 179.6\n",
      "섭씨 83 = 화씨 181.4\n",
      "섭씨 84 = 화씨 183.20000000000002\n",
      "섭씨 85 = 화씨 185.0\n",
      "섭씨 86 = 화씨 186.8\n",
      "섭씨 87 = 화씨 188.6\n",
      "섭씨 88 = 화씨 190.4\n",
      "섭씨 89 = 화씨 192.20000000000002\n",
      "섭씨 90 = 화씨 194.0\n",
      "섭씨 91 = 화씨 195.8\n",
      "섭씨 92 = 화씨 197.6\n",
      "섭씨 93 = 화씨 199.4\n",
      "섭씨 94 = 화씨 201.20000000000002\n",
      "섭씨 95 = 화씨 203.0\n",
      "섭씨 96 = 화씨 204.8\n",
      "섭씨 97 = 화씨 206.6\n",
      "섭씨 98 = 화씨 208.4\n",
      "섭씨 99 = 화씨 210.20000000000002\n",
      "섭씨 100 = 화씨 212.0\n"
     ]
    }
   ],
   "source": [
    "#Temperature Conversion Table\n",
    "fList = []\n",
    "cList = list(range(0,101))\n",
    "print('섭씨 화씨 변환 공식')\n",
    "for i in cList:\n",
    "    f = i * 1.8 + 32\n",
    "    fList.append(f)\n",
    "for j in range(0,101):\n",
    "    print('섭씨 ' + str(cList[j]) + ' =' + ' 화씨 ' + str(fList[j]))"
   ]
  },
  {
   "cell_type": "code",
   "execution_count": 45,
   "metadata": {},
   "outputs": [
    {
     "name": "stdout",
     "output_type": "stream",
     "text": [
      "A\n",
      "B\n",
      "C\n",
      "D\n",
      "F\n",
      "\n",
      "Your Average Grade is 2.0\n"
     ]
    }
   ],
   "source": [
    "#Compute a Grade Point Average\n",
    "\n",
    "grade_list = []\n",
    "\n",
    "def change(x):\n",
    "    return {\n",
    "        'A+': 4.0,\n",
    "        'A': 4.0,\n",
    "        'A-': 3.7,\n",
    "        'B+': 3.3,\n",
    "        'B': 3.0,\n",
    "        'B-': 2.7,\n",
    "        'C+': 2.3,\n",
    "        'C': 2.0,\n",
    "        'C-': 1.7,\n",
    "        'D+': 1.3,\n",
    "        'D': 1.0,\n",
    "        'F': 0.0,\n",
    "        '': ''\n",
    "    }[x]\n",
    "\n",
    "while True:\n",
    "    grade = str(input())\n",
    "    grade_list.append(change(grade))\n",
    "    if grade is '':\n",
    "        grade_list.pop()\n",
    "        break;\n",
    "\n",
    "a = sum(grade_list)\n",
    "b = len(grade_list)\n",
    "c = a / b\n",
    "print('Your Average Grade is ' + str(c))"
   ]
  },
  {
   "cell_type": "code",
   "execution_count": 6,
   "metadata": {},
   "outputs": [
    {
     "name": "stdout",
     "output_type": "stream",
     "text": [
      "65\n",
      "65\n",
      "65\n",
      "\n",
      "Total Price is 54.0\n"
     ]
    }
   ],
   "source": [
    "#Admission Price\n",
    "\n",
    "price_list = []\n",
    "\n",
    "while True:\n",
    "    try:\n",
    "        age = input()\n",
    "        if 0 <= int(age) <= 2 :\n",
    "            price_list.append(0.00)\n",
    "        elif 3 <= int(age) <= 12 :\n",
    "            price_list.append(14.00)\n",
    "        elif 13 <= int(age) <= 64 :\n",
    "            price_list.append(23.00)\n",
    "        elif int(age) >= 65 :\n",
    "            price_list.append(18.00)        \n",
    "    except:\n",
    "        if age is '' :\n",
    "            break;\n",
    "        \n",
    "        \n",
    "a = sum(price_list)\n",
    "print('Total Price is ' + str(a))\n"
   ]
  },
  {
   "cell_type": "code",
   "execution_count": 32,
   "metadata": {},
   "outputs": [
    {
     "name": "stdout",
     "output_type": "stream",
     "text": [
      "civic\n",
      "civic is Palindrome!\n"
     ]
    }
   ],
   "source": [
    "#Is a String a Palindrome?\n",
    "word = input()\n",
    "backWord = reversed(word)\n",
    "\n",
    "if list(word) == list(backWord):\n",
    "    print(str(word) + ' is Palindrome!')\n",
    "else:\n",
    "    print(str(word) + ' is not Palindrome!')"
   ]
  },
  {
   "cell_type": "code",
   "execution_count": 52,
   "metadata": {},
   "outputs": [
    {
     "name": "stdout",
     "output_type": "stream",
     "text": [
      "\n",
      "\n",
      "1 2 3 4 5 6 7 8 9 10 \n",
      "\n",
      "2 4 6 8 10 12 14 16 18 20 \n",
      "\n",
      "3 6 9 12 15 18 21 24 27 30 \n",
      "\n",
      "4 8 12 16 20 24 28 32 36 40 \n",
      "\n",
      "5 10 15 20 25 30 35 40 45 50 \n",
      "\n",
      "6 12 18 24 30 36 42 48 54 60 \n",
      "\n",
      "7 14 21 28 35 42 49 56 63 70 \n",
      "\n",
      "8 16 24 32 40 48 56 64 72 80 \n",
      "\n",
      "9 18 27 36 45 54 63 72 81 90 \n",
      "\n",
      "10 20 30 40 50 60 70 80 90 100 "
     ]
    }
   ],
   "source": [
    "#Multiplication table\n",
    "for i in range(1,11):\n",
    "    print('\\n')\n",
    "    for j in range(1,11):\n",
    "        print(i * j , end=\" \")\n"
   ]
  },
  {
   "cell_type": "code",
   "execution_count": 33,
   "metadata": {},
   "outputs": [
    {
     "name": "stdout",
     "output_type": "stream",
     "text": [
      "8\n"
     ]
    }
   ],
   "source": [
    "#Greatest Common Divisor\n",
    "def checkGCD(num1, num2):\n",
    "    if num1 < num2:\n",
    "        num3 = num1\n",
    "    else:\n",
    "        num3 = num2 \n",
    "        \n",
    "    while True:\n",
    "        if num2 % num3 == 0 and num1 % num3 == 0:\n",
    "            print(num3)\n",
    "            break;\n",
    "        num3 -= 1    \n",
    "checkGCD(24, 16)"
   ]
  },
  {
   "cell_type": "code",
   "execution_count": 2,
   "metadata": {},
   "outputs": [
    {
     "data": {
      "text/plain": [
       "5"
      ]
     },
     "execution_count": 2,
     "metadata": {},
     "output_type": "execute_result"
    }
   ],
   "source": [
    "#Binary to Decimal\n",
    "def bToD(num):\n",
    "    converter = int(str(num), 2)\n",
    "    return converter"
   ]
  },
  {
   "cell_type": "code",
   "execution_count": 17,
   "metadata": {},
   "outputs": [
    {
     "name": "stdout",
     "output_type": "stream",
     "text": [
      "15\n",
      "1111\n"
     ]
    }
   ],
   "source": [
    "#Decimal to Binary\n",
    "q = int(input())\n",
    "result = ''\n",
    "while True:\n",
    "    r = q % 2\n",
    "    result += str(r)\n",
    "    q = int(q // 2)\n",
    "    if q == 0:\n",
    "        print(result[::-1])\n",
    "        break;"
   ]
  },
  {
   "cell_type": "code",
   "execution_count": null,
   "metadata": {},
   "outputs": [],
   "source": []
  }
 ],
 "metadata": {
  "kernelspec": {
   "display_name": "Python 3",
   "language": "python",
   "name": "python3"
  },
  "language_info": {
   "codemirror_mode": {
    "name": "ipython",
    "version": 3
   },
   "file_extension": ".py",
   "mimetype": "text/x-python",
   "name": "python",
   "nbconvert_exporter": "python",
   "pygments_lexer": "ipython3",
   "version": "3.6.5"
  }
 },
 "nbformat": 4,
 "nbformat_minor": 2
}
