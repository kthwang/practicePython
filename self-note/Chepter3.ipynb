{
 "cells": [
  {
   "cell_type": "markdown",
   "metadata": {},
   "source": [
    "## Chepter3"
   ]
  },
  {
   "cell_type": "markdown",
   "metadata": {},
   "source": [
    "주석처리 방법: 줄 앞에 '#'를 붙인다."
   ]
  },
  {
   "cell_type": "markdown",
   "metadata": {},
   "source": [
    "##### 숫자"
   ]
  },
  {
   "cell_type": "markdown",
   "metadata": {},
   "source": [
    "정수는 int, 소수부는 float"
   ]
  },
  {
   "cell_type": "markdown",
   "metadata": {},
   "source": [
    "나눗셈(/)은 항상 결과가 float가 나온다."
   ]
  },
  {
   "cell_type": "markdown",
   "metadata": {},
   "source": [
    "나눗셈중 몫을 구할 때: //\n",
    "나눗셈중 나머지를 구할 때: %\n",
    "거듭제곱을 계산할 때: **\n",
    "값을 대입할 때: =\n",
    "읽기는 편하지만 의미가 없이 사용할 수 있음: _(예 100_000)\n",
    "복수부: 허수부를 사용할때 j를 사용(예: 3+5j)"
   ]
  },
  {
   "cell_type": "markdown",
   "metadata": {},
   "source": [
    "##### 문자열"
   ]
  },
  {
   "cell_type": "markdown",
   "metadata": {},
   "source": [
    "출력 문자: 따옴표('', \"\")로 둘러싸여 있음.\n",
    "특수문자는 앞에 역슬래시를 사용(\\)\n",
    "print는 해당 문자열을 출력\n",
    "문자열 앞에 r을 붙일경우 작성 그대로 출력(ex: r'C:\\some\\name' -> C:\\some\\name\n",
    "여러줄의 문자열을 사용할경우 삼중 따옴표 사용(\"\"\"...\"\"\")\n",
    "+와 *을 사용하여 문자열 반복 가능"
   ]
  },
  {
   "cell_type": "markdown",
   "metadata": {},
   "source": [
    "두개 이상으로 사용하면 자동 연결: 'Py' 'thon' : 'Python'\n",
    "문자열은 인덱스 가능(시퀀스 특징)\n",
    "word[0] = 'w'\n",
    "인덱스가 음수화될경우 끝에서부터 셈\n",
    "word[-1] = 'd'\n",
    "슬라이싱도 지원 가능\n",
    "word[0:2] wo\n",
    "word[:2] + word[2:] = word 와 같다."
   ]
  },
  {
   "cell_type": "markdown",
   "metadata": {},
   "source": [
    "##### 리스트"
   ]
  },
  {
   "cell_type": "markdown",
   "metadata": {},
   "source": [
    "컴파운드 자료형 []안의 목록으로 표현\n",
    "squares = [1, 4, 9, 16, 25]\n",
    "문자열처럼 인덱싱, 슬라이싱 가능\n",
    "squares[0] = 1\n",
    "이어붙이기 연산도 가능\n",
    "suares + [36, 49]\n",
    "[1, 4, 9, 16, 25, 36, 49]\n",
    "리스트는 mutable(가변성), 문자열은 immutable(불가변)"
   ]
  },
  {
   "cell_type": "markdown",
   "metadata": {},
   "source": [
    "len 사용시 갯수확인"
   ]
  },
  {
   "cell_type": "code",
   "execution_count": 3,
   "metadata": {},
   "outputs": [
    {
     "data": {
      "text/plain": [
       "4"
      ]
     },
     "execution_count": 3,
     "metadata": {},
     "output_type": "execute_result"
    }
   ],
   "source": [
    "letters = ['a', ',b', 'c', 'd']\n",
    "len(letters)"
   ]
  },
  {
   "cell_type": "markdown",
   "metadata": {},
   "source": [
    "리스트 중첩가능"
   ]
  },
  {
   "cell_type": "code",
   "execution_count": 5,
   "metadata": {},
   "outputs": [
    {
     "data": {
      "text/plain": [
       "[['a', 'b', 'c'], [1, 2, 3]]"
      ]
     },
     "execution_count": 5,
     "metadata": {},
     "output_type": "execute_result"
    }
   ],
   "source": [
    "a = ['a', 'b','c']\n",
    "n = [1,2,3]\n",
    "x = [a, n]\n",
    "x"
   ]
  },
  {
   "cell_type": "code",
   "execution_count": 6,
   "metadata": {},
   "outputs": [
    {
     "data": {
      "text/plain": [
       "['a', 'b', 'c']"
      ]
     },
     "execution_count": 6,
     "metadata": {},
     "output_type": "execute_result"
    }
   ],
   "source": [
    "x[0]"
   ]
  },
  {
   "cell_type": "code",
   "execution_count": null,
   "metadata": {},
   "outputs": [],
   "source": []
  }
 ],
 "metadata": {
  "kernelspec": {
   "display_name": "Python 3",
   "language": "python",
   "name": "python3"
  },
  "language_info": {
   "codemirror_mode": {
    "name": "ipython",
    "version": 3
   },
   "file_extension": ".py",
   "mimetype": "text/x-python",
   "name": "python",
   "nbconvert_exporter": "python",
   "pygments_lexer": "ipython3",
   "version": "3.6.5"
  }
 },
 "nbformat": 4,
 "nbformat_minor": 2
}
