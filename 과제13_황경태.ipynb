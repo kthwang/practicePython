{
 "cells": [
  {
   "cell_type": "code",
   "execution_count": 15,
   "metadata": {},
   "outputs": [],
   "source": [
    "from urllib import request\n",
    "from bs4 import BeautifulSoup\n",
    "import requests\n",
    "import base64\n",
    "import chardet\n",
    "from pymongo import MongoClient"
   ]
  },
  {
   "cell_type": "code",
   "execution_count": 16,
   "metadata": {},
   "outputs": [],
   "source": [
    "client = MongoClient('localhost')"
   ]
  },
  {
   "cell_type": "code",
   "execution_count": 17,
   "metadata": {},
   "outputs": [
    {
     "data": {
      "text/plain": [
       "['admin', 'config', 'local', 'newDB', 'sns', 'test']"
      ]
     },
     "execution_count": 17,
     "metadata": {},
     "output_type": "execute_result"
    }
   ],
   "source": [
    "client.list_database_names()"
   ]
  },
  {
   "cell_type": "code",
   "execution_count": 67,
   "metadata": {},
   "outputs": [],
   "source": [
    "url =\"https://www.google.com/search?q=%EB%AA%A8%EB%94%9C%EB%A6%AC%EC%95%84%EB%8B%88&tbm=isch&tbo=u&source=univ&sa=X&ved=0ahUKEwiL2-WIh6ncAhVY7WEKHRtjBwgQsAQIOA&biw=1280&bih=643#imgrc=kh4tIZaRXaB1DM:\" \n",
    "select = \"a > img\""
   ]
  },
  {
   "cell_type": "code",
   "execution_count": 79,
   "metadata": {},
   "outputs": [],
   "source": [
    "def getContent(url, select = \"a\", num_retries=2):\n",
    "    html = requests.get(url)\n",
    "    \n",
    "    if 500<=html.status_code<600 and num_retries>0:\n",
    "        print(html.status_code, html.reason)\n",
    "        return getUrl(url, num_retries = num_retries-1)\n",
    "    \n",
    "    dom = BeautifulSoup(html.text, \"lxml\")\n",
    " \n",
    "    imgsrc = dom.select(select)\n",
    "    \n",
    "    for row in imgsrc:\n",
    "        print(row[\"src\"])\n",
    "\n",
    "    \n"
   ]
  },
  {
   "cell_type": "code",
   "execution_count": 80,
   "metadata": {},
   "outputs": [
    {
     "name": "stdout",
     "output_type": "stream",
     "text": [
      "https://encrypted-tbn0.gstatic.com/images?q=tbn:ANd9GcQrPNZSSkAdQVDEvNZMe0y5Tggfq45eXNExHXDnkOPyjII5vv7LB6nFZFQp\n",
      "https://encrypted-tbn0.gstatic.com/images?q=tbn:ANd9GcQBloF3VB2Edq8DdL9jQCKtzuyzaZMH3J4go649P7YXQRNfH4BSSwAPqcf_\n",
      "https://encrypted-tbn0.gstatic.com/images?q=tbn:ANd9GcS3RpwXyoSmfPKgzcjkYwgUbTfR76GtLDE7XtvbDTl_h58C2sMN9mwWWqI\n",
      "https://encrypted-tbn0.gstatic.com/images?q=tbn:ANd9GcQSJFw6-fvD8lNiLLxlKITMacaAy1fDg3vdWhjkWwNGjhO-qmvGCXSNFzM\n",
      "https://encrypted-tbn0.gstatic.com/images?q=tbn:ANd9GcQRQ2UM2VUIXh3IuwoVH8IX_gqwwh0FzRo8fwzJUFy3MF5N77D5jeW6pRJ6\n",
      "https://encrypted-tbn0.gstatic.com/images?q=tbn:ANd9GcSHBP8hLkhPpEgKl2AeyuXrUxc49tVSffXllNfYW71kc5Rglqu-rpqwOg\n",
      "https://encrypted-tbn0.gstatic.com/images?q=tbn:ANd9GcR4TstUUgL5vz7t7siSObTQMUWMEbzi3xdR1lvDwDJWzT6X-an8ON7R2xCf\n",
      "https://encrypted-tbn0.gstatic.com/images?q=tbn:ANd9GcRhPOKMZtLxzz9ivPVBMOSw80VrNC3HlasEPbLNqwF7apvDWoLHQGGxsMI\n",
      "https://encrypted-tbn0.gstatic.com/images?q=tbn:ANd9GcQOHoNe4yL8SzgIyiFL7bnRB2RnBbiLTzIked4sU-OG-1RemvJgvSMqdww\n",
      "https://encrypted-tbn0.gstatic.com/images?q=tbn:ANd9GcRhj3Ror9gqnfmoCVQ0mmWLu1lCHmqv5k7fZRLsUeDb1iuapoOogcOFplw\n",
      "https://encrypted-tbn0.gstatic.com/images?q=tbn:ANd9GcStFnZs6jzGDxYuyp36-7arBrHQGzsgH4l0HlSuO-g3a-3H2HhpEGB15r_A\n",
      "https://encrypted-tbn0.gstatic.com/images?q=tbn:ANd9GcSDJWRlKzDl3wzrWY3qJTftyxErf4jD0gkgaSEePBMGhAtu4rf8SfZiGYM\n",
      "https://encrypted-tbn0.gstatic.com/images?q=tbn:ANd9GcT3wcAoq8pDjCtaHKMSywbTbSRecEPvRhC8qsU5JRETM3KZfmQEK0MMqDM\n",
      "https://encrypted-tbn0.gstatic.com/images?q=tbn:ANd9GcTnicn6pZbR9DTUXE3l0tF5-2qmUAxjZgDCtSnO-y7SAeeyVfdzDZ0Tyw\n",
      "https://encrypted-tbn0.gstatic.com/images?q=tbn:ANd9GcSt04ext3akoYf1bHylkOkvi6bTRGKKMDTenUiiWOdJ0xFTM872YOnZlMcW\n",
      "https://encrypted-tbn0.gstatic.com/images?q=tbn:ANd9GcTClBNzqJODCmbVZrbj6b7nu3SKWGlVRuJPwFq9vTpakQuGqvngHAAusF4j\n",
      "https://encrypted-tbn0.gstatic.com/images?q=tbn:ANd9GcRQrvzVISwiiQw0xIRSgg2s4IyXYyJ7UmX9wWcw6yMPgaimX-QimbaI8uJv\n",
      "https://encrypted-tbn0.gstatic.com/images?q=tbn:ANd9GcSl-lDFsPsrgS_fm-QPfGPa-hFi-om7CsstQtTGGmGpUzc04Dl2KQReErO7\n",
      "https://encrypted-tbn0.gstatic.com/images?q=tbn:ANd9GcQ-_CFubSu0t79KX2Jrkou0JR0m4pymYBlT7R1EkMjhOjIApZY38au6OE0\n",
      "https://encrypted-tbn0.gstatic.com/images?q=tbn:ANd9GcTmfZKU2enqKxWIyk93hBjxRhNWxvcVFLghkNXRsZV5ft8cE3DCzw2BHro\n"
     ]
    }
   ],
   "source": [
    "getContent(url, select)"
   ]
  },
  {
   "cell_type": "code",
   "execution_count": 70,
   "metadata": {},
   "outputs": [
    {
     "ename": "NameError",
     "evalue": "name 'imgsrc' is not defined",
     "output_type": "error",
     "traceback": [
      "\u001b[1;31m---------------------------------------------------------------------------\u001b[0m",
      "\u001b[1;31mNameError\u001b[0m                                 Traceback (most recent call last)",
      "\u001b[1;32m<ipython-input-70-7fdf7ffa6bef>\u001b[0m in \u001b[0;36m<module>\u001b[1;34m()\u001b[0m\n\u001b[1;32m----> 1\u001b[1;33m \u001b[0mimgsrc\u001b[0m\u001b[1;33m.\u001b[0m\u001b[0mhas_attr\u001b[0m\u001b[1;33m[\u001b[0m\u001b[1;34m'src'\u001b[0m\u001b[1;33m]\u001b[0m\u001b[1;33m\u001b[0m\u001b[0m\n\u001b[0m",
      "\u001b[1;31mNameError\u001b[0m: name 'imgsrc' is not defined"
     ]
    }
   ],
   "source": []
  },
  {
   "cell_type": "code",
   "execution_count": null,
   "metadata": {},
   "outputs": [],
   "source": []
  }
 ],
 "metadata": {
  "kernelspec": {
   "display_name": "Python 3",
   "language": "python",
   "name": "python3"
  },
  "language_info": {
   "codemirror_mode": {
    "name": "ipython",
    "version": 3
   },
   "file_extension": ".py",
   "mimetype": "text/x-python",
   "name": "python",
   "nbconvert_exporter": "python",
   "pygments_lexer": "ipython3",
   "version": "3.6.5"
  }
 },
 "nbformat": 4,
 "nbformat_minor": 2
}
