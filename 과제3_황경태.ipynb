{
 "cells": [
  {
   "cell_type": "code",
   "execution_count": 6,
   "metadata": {},
   "outputs": [
    {
     "data": {
      "text/plain": [
       "6.5"
      ]
     },
     "execution_count": 6,
     "metadata": {},
     "output_type": "execute_result"
    }
   ],
   "source": [
    "#82. Taxi Fare\n",
    "\n",
    "def taxi_fare(num):\n",
    "    base = 4\n",
    "    total_price = 0\n",
    "    distance = (num * 1000) / 140\n",
    "    total_price = base + distance * 0.25\n",
    "    return total_price\n",
    "taxi_fare(1.4)"
   ]
  },
  {
   "cell_type": "code",
   "execution_count": 11,
   "metadata": {},
   "outputs": [
    {
     "data": {
      "text/plain": [
       "10"
      ]
     },
     "execution_count": 11,
     "metadata": {},
     "output_type": "execute_result"
    }
   ],
   "source": [
    "#84. Median of Three Values\n",
    "def find_median(num1, num2, num3):\n",
    "    num_list = sorted([num1, num2, num3])\n",
    "    return num_list[1]\n",
    "\n",
    "find_median(10, 30, 5)\n"
   ]
  },
  {
   "cell_type": "code",
   "execution_count": 20,
   "metadata": {},
   "outputs": [
    {
     "data": {
      "text/plain": [
       "'5th'"
      ]
     },
     "execution_count": 20,
     "metadata": {},
     "output_type": "execute_result"
    }
   ],
   "source": [
    "#85. Convert an Integer to its Oridinal Number\n",
    "def convert_ordinal(num):\n",
    "    if 0 < num < 13:\n",
    "        if num is 1:\n",
    "            return str(num) + 'st'\n",
    "        elif num is 2:\n",
    "            return str(num) + 'nd'\n",
    "        elif num is 3:\n",
    "            return str(num) + 'rd'\n",
    "        elif num > 3:\n",
    "            return str(num) + 'th'\n",
    "    else:\n",
    "        return ''\n",
    "convert_ordinal(5)"
   ]
  },
  {
   "cell_type": "code",
   "execution_count": 29,
   "metadata": {},
   "outputs": [
    {
     "data": {
      "text/plain": [
       "False"
      ]
     },
     "execution_count": 29,
     "metadata": {},
     "output_type": "execute_result"
    }
   ],
   "source": [
    "#88. Is it a Valid Triangle?\n",
    "\n",
    "def is_triangle(num1, num2, num3):\n",
    "    num_list = sorted([num1, num2, num3])\n",
    "    if num_list[0] is 0:\n",
    "        return False    \n",
    "    elif num_list[2] > num_list[0] + num_list[1]:\n",
    "        print(str(num_list[2]) + ' 은 ' +str(num_list[1]) + ' 과 ' + str(num_list[0]) + '의 합보다 큽니다.' )\n",
    "        return False\n",
    "    else:\n",
    "        print(str(num_list[2]) + ' 은 ' +str(num_list[1]) + ' 과 ' + str(num_list[0]) + '의 합보다 크지 않습니다.' )\n",
    "        return True\n",
    "    \n",
    "\n",
    "is_triangle(0, 3, 2)\n",
    "    "
   ]
  },
  {
   "cell_type": "code",
   "execution_count": 59,
   "metadata": {},
   "outputs": [
    {
     "name": "stdout",
     "output_type": "stream",
     "text": [
      "It is Prime Number\n"
     ]
    },
    {
     "data": {
      "text/plain": [
       "True"
      ]
     },
     "execution_count": 59,
     "metadata": {},
     "output_type": "execute_result"
    }
   ],
   "source": [
    "#92. Is a Number Prime?\n",
    "\n",
    "def is_prime(num):\n",
    "    if num is 2:\n",
    "        print('It is Prime Number')\n",
    "        return True\n",
    "    for i in range(2, num):\n",
    "        if num % i == 0:\n",
    "            print('It is not Prime Number')\n",
    "            return False\n",
    "        else:\n",
    "            print('It is Prime Number')\n",
    "            return True\n",
    "is_prime(19)            \n",
    "    "
   ]
  },
  {
   "cell_type": "code",
   "execution_count": 102,
   "metadata": {},
   "outputs": [
    {
     "name": "stdout",
     "output_type": "stream",
     "text": [
      "On the 1st day of Christmas\n",
      "my true love sent to me:\n",
      "A partridge in a pear tree. \n",
      "\n",
      " On the 2nd day of Christmas\n",
      "my true love sent to me:\n",
      "Two turtle doves,\n",
      "And a partridge in a pear tree.\n",
      "\n",
      " On the 3rd day of Christmas\n",
      "my true love sent to me:\n",
      "Three French hens,\n",
      "Two turtle doves,\n",
      "And a partridge in a pear tree.\n",
      "\n",
      " On the 4th day of Christmas\n",
      "my true love sent to me:\n",
      "Four calling birds, \n",
      "Three French hens,\n",
      "Two turtle doves,\n",
      "And a partridge in a pear tree.\n",
      "\n",
      " On the 5th day of Christmas\n",
      "my true love sent to me:\n",
      "Five gold rings, \n",
      "Four calling birds, \n",
      "Three French hens,\n",
      "Two turtle doves,\n",
      "And a partridge in a pear tree.\n",
      "\n",
      " On the 6th day of Christmas\n",
      "my true love sent to me:\n",
      "Six geese a laying, \n",
      "Five gold rings, \n",
      "Four calling birds, \n",
      "Three French hens,\n",
      "Two turtle doves,\n",
      "And a partridge in a pear tree.\n",
      "\n",
      " On the 7th day of Christmas\n",
      "my true love sent to me:\n",
      "Seven swans a swimming, \n",
      "Six geese a laying, \n",
      "Five gold rings, \n",
      "Four calling birds, \n",
      "Three French hens,\n",
      "Two turtle doves,\n",
      "And a partridge in a pear tree.\n",
      "\n",
      " On the 8th day of Christmas\n",
      "my true love sent to me:\n",
      "Eight maids a milking, \n",
      "Seven swans a swimming, \n",
      "Six geese a laying, \n",
      "Five gold rings, \n",
      "Four calling birds, \n",
      "Three French hens,\n",
      "Two turtle doves,\n",
      "And a partridge in a pear tree.\n",
      "\n",
      " On the 9th day of Christmas\n",
      "my true love sent to me:\n",
      "Nine drummers drumming, \n",
      "Eight maids a milking, \n",
      "Seven swans a swimming, \n",
      "Six geese a laying, \n",
      "Five gold rings, \n",
      "Four calling birds, \n",
      "Three French hens,\n",
      "Two turtle doves,\n",
      "And a partridge in a pear tree.\n",
      "\n",
      " On the 10th day of Christmas\n",
      "my true love sent to me:\n",
      "Ten pipers piping, \n",
      "Nine drummers drumming, \n",
      "Eight maids a milking, \n",
      "Seven swans a swimming, \n",
      "Six geese a laying, \n",
      "Five gold rings, \n",
      "Four calling birds, \n",
      "Three French hens,\n",
      "Two turtle doves,\n",
      "And a partridge in a pear tree.\n",
      "\n",
      " On the 11th day of Christmas\n",
      "my true love sent to me:\n",
      "Eleven ladies dancing, \n",
      "Ten pipers piping, \n",
      "Nine drummers drumming, \n",
      "Eight maids a milking, \n",
      "Seven swans a swimming, \n",
      "Six geese a laying, \n",
      "Five gold rings, \n",
      "Four calling birds, \n",
      "Three French hens,\n",
      "Two turtle doves,\n",
      "And a partridge in a pear tree.\n",
      "\n",
      " On the 12th day of Christmas\n",
      "my true love sent to me:\n",
      "Twelve Lords a leaping, \n",
      "Eleven ladies dancing, \n",
      "Ten pipers piping, \n",
      "Nine drummers drumming, \n",
      "Eight maids a milking, \n",
      "Seven swans a swimming, \n",
      "Six geese a laying, \n",
      "Five gold rings, \n",
      "Four calling birds, \n",
      "Three French hens,\n",
      "Two turtle doves,\n",
      "And a partridge in a pear tree.\n"
     ]
    }
   ],
   "source": [
    "#86. The Twelve Days of Christmas\n",
    "present = [\n",
    "    'And a partridge in a pear tree.', \n",
    "    'Two turtle doves,', \n",
    "    'Three French hens,',\n",
    "    'Four calling birds, ',\n",
    "    'Five gold rings, ',\n",
    "    'Six geese a laying, ',\n",
    "    'Seven swans a swimming, ',\n",
    "    'Eight maids a milking, ',\n",
    "    'Nine drummers drumming, ',\n",
    "    'Ten pipers piping, ',\n",
    "    'Eleven ladies dancing, ',\n",
    "    'Twelve Lords a leaping, '   \n",
    "]\n",
    "def convert_ordinal(num):\n",
    "    if 0 < num < 13:\n",
    "        if num is 1:\n",
    "            return str(num) + 'st'\n",
    "        elif num is 2:\n",
    "            return str(num) + 'nd'\n",
    "        elif num is 3:\n",
    "            return str(num) + 'rd'\n",
    "        elif num > 3:\n",
    "            return str(num) + 'th'\n",
    "    else:\n",
    "        return ''\n",
    "print('On the ' + convert_ordinal(1) + ' day of Christmas')\n",
    "print('my true love sent to me:')\n",
    "print('A partridge in a pear tree. ')\n",
    "for i in range(2,13):\n",
    "    print('\\n On the ' + convert_ordinal(i) + ' day of Christmas')\n",
    "    print('my true love sent to me:')\n",
    "    j = i\n",
    "    while j > 0:\n",
    "        print(present[j-1])\n",
    "        j -=1\n",
    "    \n",
    "    \n",
    "    \n",
    "    \n",
    "    \n"
   ]
  },
  {
   "cell_type": "code",
   "execution_count": null,
   "metadata": {},
   "outputs": [],
   "source": []
  },
  {
   "cell_type": "code",
   "execution_count": null,
   "metadata": {},
   "outputs": [],
   "source": []
  }
 ],
 "metadata": {
  "kernelspec": {
   "display_name": "Python 3",
   "language": "python",
   "name": "python3"
  },
  "language_info": {
   "codemirror_mode": {
    "name": "ipython",
    "version": 3
   },
   "file_extension": ".py",
   "mimetype": "text/x-python",
   "name": "python",
   "nbconvert_exporter": "python",
   "pygments_lexer": "ipython3",
   "version": "3.6.5"
  }
 },
 "nbformat": 4,
 "nbformat_minor": 2
}
