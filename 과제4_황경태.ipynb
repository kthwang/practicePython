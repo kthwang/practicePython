{
 "cells": [
  {
   "cell_type": "code",
   "execution_count": 36,
   "metadata": {},
   "outputs": [
    {
     "name": "stdout",
     "output_type": "stream",
     "text": [
      "2 occurs 2.9000000000000004 theory is 2.78\n",
      "3 occurs 6.1 theory is 5.56\n",
      "4 occurs 8.200000000000001 theory is 8.33\n",
      "5 occurs 9.6 theory is 11.11\n",
      "6 occurs 13.5 theory is 13.89\n",
      "7 occurs 16.0 theory is 16.67\n",
      "8 occurs 16.0 theory is 13.89\n",
      "9 occurs 9.4 theory is 11.11\n",
      "10 occurs 8.6 theory is 8.33\n",
      "11 occurs 6.4 theory is 5.56\n",
      "12 occurs 3.3000000000000003 theory is 2.78\n"
     ]
    }
   ],
   "source": [
    "#129. Two Dice Simulation\n",
    "import random\n",
    "\n",
    "num_list = [2,3,4,5,6,7,8,9,10,11,12]\n",
    "count_list = []\n",
    "theory = [2.78, 5.56, 8.33, 11.11, 13.89, 16.67, 13.89, 11.11, 8.33, 5.56, 2.78]\n",
    "for i in range(1000):\n",
    "    dice1 = random.randint(1,6)\n",
    "    dice2 = random.randint(1,6)\n",
    "    result = dice1 + dice2\n",
    "    count_list.append(result)\n",
    "\n",
    "for i in range(2,13):\n",
    "    print(str(i) + ' occurs ' + str((count_list.count(i) / 1000)*100) + ' theory is ' + str(theory[i-2]))\n"
   ]
  },
  {
   "cell_type": "code",
   "execution_count": 49,
   "metadata": {},
   "outputs": [
    {
     "name": "stdout",
     "output_type": "stream",
     "text": [
      "hello\n",
      "not\n",
      "not\n",
      "not\n",
      "not\n",
      "not\n",
      "not\n",
      "not\n",
      "not\n",
      "not\n",
      "not\n",
      "not\n",
      "not\n",
      "not\n",
      "not\n",
      "not\n",
      "not\n",
      "not\n",
      "not\n",
      "not\n",
      "not\n",
      "not\n",
      "not\n",
      "not\n",
      "not\n",
      "not\n",
      "not\n",
      "not\n",
      "not\n",
      "not\n",
      "not\n",
      "not\n",
      "not\n",
      "not\n",
      "not\n",
      "not\n",
      "not\n",
      "not\n",
      "not\n",
      "not\n",
      "not\n",
      "not\n",
      "not\n",
      "not\n",
      "not\n",
      "not\n",
      "not\n",
      "not\n",
      "not\n",
      "not\n",
      "not\n"
     ]
    }
   ],
   "source": [
    "#130. Text Messaging\n",
    "from collections import OrderedDict\n",
    "key_list = OrderedDict({\n",
    "    '1': ['.', ',', '?', '!', ':'],\n",
    "    '2': ['A', 'B', 'C'],\n",
    "    '3': ['D', 'E', 'F'],\n",
    "    '4': ['G', 'H', 'I'],\n",
    "    '5': ['J', 'K', 'L'],\n",
    "    '6': ['M', 'N', 'O'],\n",
    "    '7': ['P', 'Q', 'R', 'S'],\n",
    "    '8': ['T', 'U', 'V'],\n",
    "    '9': ['W', 'X', 'Y', 'Z'],\n",
    "    '0': [' ']\n",
    "})\n",
    "text = (str(input()))\n",
    "translate_list = list(text.upper())\n",
    "for k, v in key_list.items():\n",
    "    for i in range(0, len(translate_list)):\n",
    "        if translate_list[i] == v:\n",
    "            print(k)\n",
    "\n",
    "        \n",
    "        "
   ]
  },
  {
   "cell_type": "code",
   "execution_count": 43,
   "metadata": {},
   "outputs": [
    {
     "ename": "AttributeError",
     "evalue": "'odict_keys' object has no attribute 'index'",
     "output_type": "error",
     "traceback": [
      "\u001b[1;31m---------------------------------------------------------------------------\u001b[0m",
      "\u001b[1;31mAttributeError\u001b[0m                            Traceback (most recent call last)",
      "\u001b[1;32m<ipython-input-43-6954ccd6862e>\u001b[0m in \u001b[0;36m<module>\u001b[1;34m()\u001b[0m\n\u001b[1;32m----> 1\u001b[1;33m \u001b[0mkey_list\u001b[0m\u001b[1;33m.\u001b[0m\u001b[0mkeys\u001b[0m\u001b[1;33m(\u001b[0m\u001b[1;33m)\u001b[0m\u001b[1;33m.\u001b[0m\u001b[0mindex\u001b[0m\u001b[1;33m(\u001b[0m\u001b[1;34m'A'\u001b[0m\u001b[1;33m)\u001b[0m\u001b[1;33m\u001b[0m\u001b[0m\n\u001b[0m",
      "\u001b[1;31mAttributeError\u001b[0m: 'odict_keys' object has no attribute 'index'"
     ]
    }
   ],
   "source": [
    "#131. Morse Code\n"
   ]
  },
  {
   "cell_type": "code",
   "execution_count": 8,
   "metadata": {},
   "outputs": [
    {
     "data": {
      "text/plain": [
       "'{1: [1, 2, 3], 2: [2, 3, 4]}'"
      ]
     },
     "execution_count": 8,
     "metadata": {},
     "output_type": "execute_result"
    }
   ],
   "source": [
    "#132. Postal Codes\n",
    "key_list = {\n",
    "    'A': 'Newfoundland',\n",
    "    'B': 'Nova Scotia',\n",
    "    'C': 'Prince Edward Island',\n",
    "    'E': 'New Brunswick',\n",
    "    'G': 'Quebec',\n",
    "    'H': 'Quebec',\n",
    "    'J': 'Quebec',\n",
    "    'K': 'Ontario',\n",
    "    'L': 'Ontario',\n",
    "    'M': 'Ontario',\n",
    "    'N': 'Ontario',\n",
    "    'P': 'Ontario',\n",
    "    'R': 'Manitoba',\n",
    "    'S': 'Saskatchewan',\n",
    "    'T': 'Alberta',\n",
    "    'V': 'British Columbia',\n",
    "    'X': ['Nunavut', 'Northwest Territories']\n",
    "    'Z': 'Yukon'\n",
    "}\n",
    "\n",
    "def postalcode(text):"
   ]
  },
  {
   "cell_type": "code",
   "execution_count": 50,
   "metadata": {},
   "outputs": [
    {
     "data": {
      "text/plain": [
       "['__class__',\n",
       " '__delattr__',\n",
       " '__dir__',\n",
       " '__doc__',\n",
       " '__eq__',\n",
       " '__format__',\n",
       " '__ge__',\n",
       " '__getattribute__',\n",
       " '__gt__',\n",
       " '__hash__',\n",
       " '__init__',\n",
       " '__init_subclass__',\n",
       " '__iter__',\n",
       " '__le__',\n",
       " '__lt__',\n",
       " '__ne__',\n",
       " '__new__',\n",
       " '__next__',\n",
       " '__reduce__',\n",
       " '__reduce_ex__',\n",
       " '__repr__',\n",
       " '__setattr__',\n",
       " '__sizeof__',\n",
       " '__str__',\n",
       " '__subclasshook__']"
      ]
     },
     "execution_count": 50,
     "metadata": {},
     "output_type": "execute_result"
    }
   ],
   "source": []
  },
  {
   "cell_type": "code",
   "execution_count": null,
   "metadata": {},
   "outputs": [],
   "source": []
  }
 ],
 "metadata": {
  "kernelspec": {
   "display_name": "Python 3",
   "language": "python",
   "name": "python3"
  },
  "language_info": {
   "codemirror_mode": {
    "name": "ipython",
    "version": 3
   },
   "file_extension": ".py",
   "mimetype": "text/x-python",
   "name": "python",
   "nbconvert_exporter": "python",
   "pygments_lexer": "ipython3",
   "version": "3.6.5"
  }
 },
 "nbformat": 4,
 "nbformat_minor": 2
}
